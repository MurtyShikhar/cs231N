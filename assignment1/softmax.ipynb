{
 "metadata": {
  "name": "",
  "signature": "sha256:ff576ec2275e575d9b4a458364d8151e6e488157e212a7d40ee6be088e237797"
 },
 "nbformat": 3,
 "nbformat_minor": 0,
 "worksheets": [
  {
   "cells": [
    {
     "cell_type": "markdown",
     "metadata": {},
     "source": [
      "# Softmax exercise\n",
      "\n",
      "*Complete and hand in this completed worksheet (including its outputs and any supporting code outside of the worksheet) with your assignment submission. For more details see the [assignments page](http://vision.stanford.edu/teaching/cs231n/assignments.html) on the course website.*\n",
      "\n",
      "This exercise is analogous to the SVM exercise. You will:\n",
      "\n",
      "- implement a fully-vectorized **loss function** for the Softmax classifier\n",
      "- implement the fully-vectorized expression for its **analytic gradient**\n",
      "- **check your implementation** with numerical gradient\n",
      "- use a validation set to **tune the learning rate and regularization** strength\n",
      "- **optimize** the loss function with **SGD**\n",
      "- **visualize** the final learned weights\n"
     ]
    },
    {
     "cell_type": "code",
     "collapsed": false,
     "input": [
      "import random\n",
      "import numpy as np\n",
      "from cs231n.data_utils import load_CIFAR10\n",
      "import matplotlib.pyplot as plt\n",
      "%matplotlib inline\n",
      "plt.rcParams['figure.figsize'] = (10.0, 8.0) # set default size of plots\n",
      "plt.rcParams['image.interpolation'] = 'nearest'\n",
      "plt.rcParams['image.cmap'] = 'gray'\n",
      "\n",
      "# for auto-reloading extenrnal modules\n",
      "# see http://stackoverflow.com/questions/1907993/autoreload-of-modules-in-ipython\n",
      "%load_ext autoreload\n",
      "%autoreload 2"
     ],
     "language": "python",
     "metadata": {},
     "outputs": [],
     "prompt_number": 2
    },
    {
     "cell_type": "code",
     "collapsed": false,
     "input": [
      "def get_CIFAR10_data(num_training=49000, num_validation=1000, num_test=1000):\n",
      "  \"\"\"\n",
      "  Load the CIFAR-10 dataset from disk and perform preprocessing to prepare\n",
      "  it for the linear classifier. These are the same steps as we used for the\n",
      "  SVM, but condensed to a single function.  \n",
      "  \"\"\"\n",
      "  # Load the raw CIFAR-10 data\n",
      "  cifar10_dir = 'cs231n/datasets/cifar-10-batches-py'\n",
      "  X_train, y_train, X_test, y_test = load_CIFAR10(cifar10_dir)\n",
      "  \n",
      "  # subsample the data\n",
      "  mask = range(num_training, num_training + num_validation)\n",
      "  X_val = X_train[mask]\n",
      "  y_val = y_train[mask]\n",
      "  mask = range(num_training)\n",
      "  X_train = X_train[mask]\n",
      "  y_train = y_train[mask]\n",
      "  mask = range(num_test)\n",
      "  X_test = X_test[mask]\n",
      "  y_test = y_test[mask]\n",
      "  \n",
      "  # Preprocessing: reshape the image data into rows\n",
      "  X_train = np.reshape(X_train, (X_train.shape[0], -1))\n",
      "  X_val = np.reshape(X_val, (X_val.shape[0], -1))\n",
      "  X_test = np.reshape(X_test, (X_test.shape[0], -1))\n",
      "  \n",
      "  # Normalize the data: subtract the mean image\n",
      "  mean_image = np.mean(X_train, axis = 0)\n",
      "  X_train -= mean_image\n",
      "  X_val -= mean_image\n",
      "  X_test -= mean_image\n",
      "  \n",
      "  # add bias dimension and transform into columns\n",
      "  X_train = np.hstack([X_train, np.ones((X_train.shape[0], 1))]).T\n",
      "  X_val = np.hstack([X_val, np.ones((X_val.shape[0], 1))]).T\n",
      "  X_test = np.hstack([X_test, np.ones((X_test.shape[0], 1))]).T\n",
      "  \n",
      "  return X_train, y_train, X_val, y_val, X_test, y_test\n",
      "\n",
      "\n",
      "# Invoke the above function to get our data.\n",
      "X_train, y_train, X_val, y_val, X_test, y_test = get_CIFAR10_data()\n",
      "print 'Train data shape: ', X_train.shape\n",
      "print 'Train labels shape: ', y_train.shape\n",
      "print 'Validation data shape: ', X_val.shape\n",
      "print 'Validation labels shape: ', y_val.shape\n",
      "print 'Test data shape: ', X_test.shape\n",
      "print 'Test labels shape: ', y_test.shape"
     ],
     "language": "python",
     "metadata": {},
     "outputs": [
      {
       "output_type": "stream",
       "stream": "stdout",
       "text": [
        "Train data shape:  (3073, 49000)\n",
        "Train labels shape:  (49000,)\n",
        "Validation data shape:  (3073, 1000)\n",
        "Validation labels shape:  (1000,)\n",
        "Test data shape:  (3073, 1000)\n",
        "Test labels shape:  (1000,)\n"
       ]
      }
     ],
     "prompt_number": 3
    },
    {
     "cell_type": "markdown",
     "metadata": {},
     "source": [
      "## Softmax Classifier\n",
      "\n",
      "Your code for this section will all be written inside **cs231n/classifiers/softmax.py**. \n"
     ]
    },
    {
     "cell_type": "code",
     "collapsed": false,
     "input": [
      "# First implement the naive softmax loss function with nested loops.\n",
      "# Open the file cs231n/classifiers/softmax.py and implement the\n",
      "# softmax_loss_naive function.\n",
      "\n",
      "from cs231n.classifiers.softmax import softmax_loss_naive\n",
      "import time\n",
      "\n",
      "# Generate a random softmax weight matrix and use it to compute the loss.\n",
      "W = np.random.randn(10, 3073) * 0.0001\n",
      "loss, grad = softmax_loss_naive(W, X_train, y_train, 0.0)\n",
      "\n",
      "# As a rough sanity check, our loss should be something close to -log(0.1).\n",
      "print 'loss: %f' % loss\n",
      "print 'sanity check: %f' % (-np.log(0.1))"
     ],
     "language": "python",
     "metadata": {},
     "outputs": [
      {
       "output_type": "stream",
       "stream": "stdout",
       "text": [
        "loss: 2.355841\n",
        "sanity check: 2.302585\n"
       ]
      }
     ],
     "prompt_number": 6
    },
    {
     "cell_type": "markdown",
     "metadata": {},
     "source": [
      "## Inline Question 1:\n",
      "Why do we expect our loss to be close to -log(0.1)? Explain briefly.**\n",
      "\n",
      "**Your answer:** *Fill this in*\n"
     ]
    },
    {
     "cell_type": "code",
     "collapsed": false,
     "input": [
      "# Complete the implementation of softmax_loss_naive and implement a (naive)\n",
      "# version of the gradient that uses nested loops.\n",
      "loss, grad = softmax_loss_naive(W, X_train, y_train, 0.0)\n",
      "\n",
      "# As we did for the SVM, use numeric gradient checking as a debugging tool.\n",
      "# The numeric gradient should be close to the analytic gradient.\n",
      "from cs231n.gradient_check import grad_check_sparse\n",
      "f = lambda w: softmax_loss_naive(w, X_train, y_train, 0.0)[0]\n",
      "grad_numerical = grad_check_sparse(f, W, grad, 10)"
     ],
     "language": "python",
     "metadata": {},
     "outputs": [
      {
       "output_type": "stream",
       "stream": "stdout",
       "text": [
        "numerical: 0.826783 analytic: 0.826783, relative error: 1.531921e-08\n",
        "numerical: -2.178575 analytic: -2.178575, relative error: 6.395479e-09"
       ]
      },
      {
       "output_type": "stream",
       "stream": "stdout",
       "text": [
        "\n",
        "numerical: 2.052269 analytic: 2.052269, relative error: 2.198424e-08"
       ]
      },
      {
       "output_type": "stream",
       "stream": "stdout",
       "text": [
        "\n",
        "numerical: 0.103371 analytic: 0.103371, relative error: 3.444091e-07"
       ]
      },
      {
       "output_type": "stream",
       "stream": "stdout",
       "text": [
        "\n",
        "numerical: 0.688731 analytic: 0.688731, relative error: 2.910538e-08"
       ]
      },
      {
       "output_type": "stream",
       "stream": "stdout",
       "text": [
        "\n",
        "numerical: 0.277638 analytic: 0.277637, relative error: 1.284649e-07"
       ]
      },
      {
       "output_type": "stream",
       "stream": "stdout",
       "text": [
        "\n",
        "numerical: -1.396165 analytic: -1.396165, relative error: 3.411367e-08"
       ]
      },
      {
       "output_type": "stream",
       "stream": "stdout",
       "text": [
        "\n",
        "numerical: 1.458254 analytic: 1.458253, relative error: 3.602678e-08"
       ]
      },
      {
       "output_type": "stream",
       "stream": "stdout",
       "text": [
        "\n",
        "numerical: 2.186667 analytic: 2.186667, relative error: 1.545375e-08"
       ]
      },
      {
       "output_type": "stream",
       "stream": "stdout",
       "text": [
        "\n",
        "numerical: -0.789749 analytic: -0.789749, relative error: 7.567021e-08"
       ]
      },
      {
       "output_type": "stream",
       "stream": "stdout",
       "text": [
        "\n"
       ]
      }
     ],
     "prompt_number": 8
    },
    {
     "cell_type": "code",
     "collapsed": false,
     "input": [
      "# Now that we have a naive implementation of the softmax loss function and its gradient,\n",
      "# implement a vectorized version in softmax_loss_vectorized.\n",
      "# The two versions should compute the same results, but the vectorized version should be\n",
      "# much faster.\n",
      "tic = time.time()\n",
      "loss_naive, grad_naive = softmax_loss_naive(W, X_train, y_train, 0.00001)\n",
      "toc = time.time()\n",
      "print 'naive loss: %e computed in %fs' % (loss_naive, toc - tic)\n",
      "\n",
      "from cs231n.classifiers.softmax import softmax_loss_vectorized\n",
      "tic = time.time()\n",
      "loss_vectorized, grad_vectorized = softmax_loss_vectorized(W, X_train, y_train, 0.00001)\n",
      "toc = time.time()\n",
      "print 'vectorized loss: %e computed in %fs' % (loss_vectorized, toc - tic)\n",
      "\n",
      "# As we did for the SVM, we use the Frobenius norm to compare the two versions\n",
      "# of the gradient.\n",
      "grad_difference = np.linalg.norm(grad_naive - grad_vectorized, ord='fro')\n",
      "print 'Loss difference: %f' % np.abs(loss_naive - loss_vectorized)\n",
      "print 'Gradient difference: %f' % grad_difference"
     ],
     "language": "python",
     "metadata": {},
     "outputs": [
      {
       "output_type": "stream",
       "stream": "stdout",
       "text": [
        "naive loss: 2.355834e+00 computed in 6.987153s\n",
        "vectorized loss: 2.355834e+00 computed in 0.381066s"
       ]
      },
      {
       "output_type": "stream",
       "stream": "stdout",
       "text": [
        "\n",
        "Loss difference: 0.000000\n",
        "Gradient difference: 0.000000\n"
       ]
      }
     ],
     "prompt_number": 12
    },
    {
     "cell_type": "code",
     "collapsed": false,
     "input": [
      "# Use the validation set to tune hyperparameters (regularization strength and\n",
      "# learning rate). You should experiment with different ranges for the learning\n",
      "# rates and regularization strengths; if you are careful you should be able to\n",
      "# get a classification accuracy of over 0.35 on the validation set.\n",
      "from cs231n.classifiers import Softmax\n",
      "results = {}\n",
      "best_val = -1\n",
      "best_softmax = None\n",
      "learning_rates = np.logspace(-10, -5, 10)\n",
      "regularization_strengths = np.logspace(4, 5, 10)\n",
      "\n",
      "\n",
      "for l in learning_rates:\n",
      "    for r in regularization_strengths:\n",
      "        classifier = Softmax()\n",
      "        classifier.train(X_train, y_train, l, r, 500)\n",
      "        y_training_pred = classifier.predict(X_train)\n",
      "        training_accuracy = np.mean(y_train == y_training_pred)\n",
      "        y_val_pred = classifier.predict(X_val)\n",
      "        validation_accuracy = np.mean(y_val == y_val_pred)\n",
      "        if best_val < validation_accuracy:\n",
      "            best_val = validation_accuracy\n",
      "            best_softmax = classifier\n",
      "        results[(l,r)] = (training_accuracy, validation_accuracy)\n",
      "    \n",
      "# Print out results.\n",
      "for lr, reg in sorted(results):\n",
      "    train_accuracy, val_accuracy = results[(lr, reg)]\n",
      "    print 'lr %e reg %e train accuracy: %f val accuracy: %f' % (\n",
      "            lr, reg, train_accuracy, val_accuracy)\n",
      "    \n",
      "print 'best validation accuracy achieved during cross-validation: %f' % best_val"
     ],
     "language": "python",
     "metadata": {},
     "outputs": [
      {
       "output_type": "stream",
       "stream": "stdout",
       "text": [
        "lr 1.000000e-10 reg 1.000000e+04 train accuracy: 0.085531 val accuracy: 0.096000\n",
        "lr 1.000000e-10 reg 1.291550e+04 train accuracy: 0.083367 val accuracy: 0.074000\n",
        "lr 1.000000e-10 reg 1.668101e+04 train accuracy: 0.101265 val accuracy: 0.109000\n",
        "lr 1.000000e-10 reg 2.154435e+04 train accuracy: 0.094224 val accuracy: 0.097000\n",
        "lr 1.000000e-10 reg 2.782559e+04 train accuracy: 0.088816 val accuracy: 0.089000\n",
        "lr 1.000000e-10 reg 3.593814e+04 train accuracy: 0.094490 val accuracy: 0.099000\n",
        "lr 1.000000e-10 reg 4.641589e+04 train accuracy: 0.127265 val accuracy: 0.132000\n",
        "lr 1.000000e-10 reg 5.994843e+04 train accuracy: 0.103122 val accuracy: 0.099000\n",
        "lr 1.000000e-10 reg 7.742637e+04 train accuracy: 0.078735 val accuracy: 0.089000\n",
        "lr 1.000000e-10 reg 1.000000e+05 train accuracy: 0.110959 val accuracy: 0.122000\n",
        "lr 3.593814e-10 reg 1.000000e+04 train accuracy: 0.100184 val accuracy: 0.094000\n",
        "lr 3.593814e-10 reg 1.291550e+04 train accuracy: 0.086673 val accuracy: 0.092000\n",
        "lr 3.593814e-10 reg 1.668101e+04 train accuracy: 0.138612 val accuracy: 0.142000\n",
        "lr 3.593814e-10 reg 2.154435e+04 train accuracy: 0.131776 val accuracy: 0.136000\n",
        "lr 3.593814e-10 reg 2.782559e+04 train accuracy: 0.109612 val accuracy: 0.096000\n",
        "lr 3.593814e-10 reg 3.593814e+04 train accuracy: 0.118816 val accuracy: 0.107000\n",
        "lr 3.593814e-10 reg 4.641589e+04 train accuracy: 0.110041 val accuracy: 0.101000\n",
        "lr 3.593814e-10 reg 5.994843e+04 train accuracy: 0.095673 val accuracy: 0.077000\n",
        "lr 3.593814e-10 reg 7.742637e+04 train accuracy: 0.097469 val accuracy: 0.086000\n",
        "lr 3.593814e-10 reg 1.000000e+05 train accuracy: 0.104714 val accuracy: 0.103000\n",
        "lr 1.291550e-09 reg 1.000000e+04 train accuracy: 0.132612 val accuracy: 0.143000\n",
        "lr 1.291550e-09 reg 1.291550e+04 train accuracy: 0.099388 val accuracy: 0.102000\n",
        "lr 1.291550e-09 reg 1.668101e+04 train accuracy: 0.105449 val accuracy: 0.116000\n",
        "lr 1.291550e-09 reg 2.154435e+04 train accuracy: 0.110286 val accuracy: 0.118000\n",
        "lr 1.291550e-09 reg 2.782559e+04 train accuracy: 0.128347 val accuracy: 0.118000\n",
        "lr 1.291550e-09 reg 3.593814e+04 train accuracy: 0.128388 val accuracy: 0.119000\n",
        "lr 1.291550e-09 reg 4.641589e+04 train accuracy: 0.097327 val accuracy: 0.090000\n",
        "lr 1.291550e-09 reg 5.994843e+04 train accuracy: 0.086184 val accuracy: 0.077000\n",
        "lr 1.291550e-09 reg 7.742637e+04 train accuracy: 0.128612 val accuracy: 0.118000\n",
        "lr 1.291550e-09 reg 1.000000e+05 train accuracy: 0.105347 val accuracy: 0.097000\n",
        "lr 4.641589e-09 reg 1.000000e+04 train accuracy: 0.122449 val accuracy: 0.117000\n",
        "lr 4.641589e-09 reg 1.291550e+04 train accuracy: 0.110449 val accuracy: 0.117000\n",
        "lr 4.641589e-09 reg 1.668101e+04 train accuracy: 0.116673 val accuracy: 0.104000\n",
        "lr 4.641589e-09 reg 2.154435e+04 train accuracy: 0.089041 val accuracy: 0.083000\n",
        "lr 4.641589e-09 reg 2.782559e+04 train accuracy: 0.126102 val accuracy: 0.124000\n",
        "lr 4.641589e-09 reg 3.593814e+04 train accuracy: 0.127286 val accuracy: 0.128000\n",
        "lr 4.641589e-09 reg 4.641589e+04 train accuracy: 0.117898 val accuracy: 0.121000\n",
        "lr 4.641589e-09 reg 5.994843e+04 train accuracy: 0.103020 val accuracy: 0.109000\n",
        "lr 4.641589e-09 reg 7.742637e+04 train accuracy: 0.117816 val accuracy: 0.126000\n",
        "lr 4.641589e-09 reg 1.000000e+05 train accuracy: 0.112837 val accuracy: 0.098000\n",
        "lr 1.668101e-08 reg 1.000000e+04 train accuracy: 0.121082 val accuracy: 0.124000\n",
        "lr 1.668101e-08 reg 1.291550e+04 train accuracy: 0.130143 val accuracy: 0.112000\n",
        "lr 1.668101e-08 reg 1.668101e+04 train accuracy: 0.132816 val accuracy: 0.124000\n",
        "lr 1.668101e-08 reg 2.154435e+04 train accuracy: 0.148245 val accuracy: 0.132000\n",
        "lr 1.668101e-08 reg 2.782559e+04 train accuracy: 0.157796 val accuracy: 0.157000\n",
        "lr 1.668101e-08 reg 3.593814e+04 train accuracy: 0.154551 val accuracy: 0.152000\n",
        "lr 1.668101e-08 reg 4.641589e+04 train accuracy: 0.127122 val accuracy: 0.112000\n",
        "lr 1.668101e-08 reg 5.994843e+04 train accuracy: 0.135592 val accuracy: 0.150000\n",
        "lr 1.668101e-08 reg 7.742637e+04 train accuracy: 0.143122 val accuracy: 0.127000\n",
        "lr 1.668101e-08 reg 1.000000e+05 train accuracy: 0.151367 val accuracy: 0.152000\n",
        "lr 5.994843e-08 reg 1.000000e+04 train accuracy: 0.179082 val accuracy: 0.181000\n",
        "lr 5.994843e-08 reg 1.291550e+04 train accuracy: 0.193122 val accuracy: 0.204000\n",
        "lr 5.994843e-08 reg 1.668101e+04 train accuracy: 0.193592 val accuracy: 0.197000\n",
        "lr 5.994843e-08 reg 2.154435e+04 train accuracy: 0.210980 val accuracy: 0.223000\n",
        "lr 5.994843e-08 reg 2.782559e+04 train accuracy: 0.216531 val accuracy: 0.224000\n",
        "lr 5.994843e-08 reg 3.593814e+04 train accuracy: 0.222837 val accuracy: 0.220000\n",
        "lr 5.994843e-08 reg 4.641589e+04 train accuracy: 0.244510 val accuracy: 0.227000\n",
        "lr 5.994843e-08 reg 5.994843e+04 train accuracy: 0.262878 val accuracy: 0.292000\n",
        "lr 5.994843e-08 reg 7.742637e+04 train accuracy: 0.278714 val accuracy: 0.311000\n",
        "lr 5.994843e-08 reg 1.000000e+05 train accuracy: 0.294510 val accuracy: 0.304000\n",
        "lr 2.154435e-07 reg 1.000000e+04 train accuracy: 0.291082 val accuracy: 0.317000\n",
        "lr 2.154435e-07 reg 1.291550e+04 train accuracy: 0.309041 val accuracy: 0.325000\n",
        "lr 2.154435e-07 reg 1.668101e+04 train accuracy: 0.329735 val accuracy: 0.337000\n",
        "lr 2.154435e-07 reg 2.154435e+04 train accuracy: 0.343612 val accuracy: 0.347000\n",
        "lr 2.154435e-07 reg 2.782559e+04 train accuracy: 0.337245 val accuracy: 0.361000\n",
        "lr 2.154435e-07 reg 3.593814e+04 train accuracy: 0.334265 val accuracy: 0.351000\n",
        "lr 2.154435e-07 reg 4.641589e+04 train accuracy: 0.326735 val accuracy: 0.345000\n",
        "lr 2.154435e-07 reg 5.994843e+04 train accuracy: 0.324673 val accuracy: 0.338000\n",
        "lr 2.154435e-07 reg 7.742637e+04 train accuracy: 0.308449 val accuracy: 0.327000\n",
        "lr 2.154435e-07 reg 1.000000e+05 train accuracy: 0.312755 val accuracy: 0.314000\n",
        "lr 7.742637e-07 reg 1.000000e+04 train accuracy: 0.367857 val accuracy: 0.380000\n",
        "lr 7.742637e-07 reg 1.291550e+04 train accuracy: 0.365918 val accuracy: 0.376000\n",
        "lr 7.742637e-07 reg 1.668101e+04 train accuracy: 0.364347 val accuracy: 0.372000\n",
        "lr 7.742637e-07 reg 2.154435e+04 train accuracy: 0.353857 val accuracy: 0.357000\n",
        "lr 7.742637e-07 reg 2.782559e+04 train accuracy: 0.339041 val accuracy: 0.338000\n",
        "lr 7.742637e-07 reg 3.593814e+04 train accuracy: 0.343571 val accuracy: 0.346000\n",
        "lr 7.742637e-07 reg 4.641589e+04 train accuracy: 0.330653 val accuracy: 0.333000\n",
        "lr 7.742637e-07 reg 5.994843e+04 train accuracy: 0.320224 val accuracy: 0.334000\n",
        "lr 7.742637e-07 reg 7.742637e+04 train accuracy: 0.304224 val accuracy: 0.316000\n",
        "lr 7.742637e-07 reg 1.000000e+05 train accuracy: 0.298286 val accuracy: 0.311000\n",
        "lr 2.782559e-06 reg 1.000000e+04 train accuracy: 0.346041 val accuracy: 0.361000\n",
        "lr 2.782559e-06 reg 1.291550e+04 train accuracy: 0.329000 val accuracy: 0.332000\n",
        "lr 2.782559e-06 reg 1.668101e+04 train accuracy: 0.336388 val accuracy: 0.355000\n",
        "lr 2.782559e-06 reg 2.154435e+04 train accuracy: 0.335694 val accuracy: 0.348000\n",
        "lr 2.782559e-06 reg 2.782559e+04 train accuracy: 0.311878 val accuracy: 0.331000\n",
        "lr 2.782559e-06 reg 3.593814e+04 train accuracy: 0.315163 val accuracy: 0.322000\n",
        "lr 2.782559e-06 reg 4.641589e+04 train accuracy: 0.297122 val accuracy: 0.313000\n",
        "lr 2.782559e-06 reg 5.994843e+04 train accuracy: 0.281102 val accuracy: 0.291000\n",
        "lr 2.782559e-06 reg 7.742637e+04 train accuracy: 0.259633 val accuracy: 0.266000\n",
        "lr 2.782559e-06 reg 1.000000e+05 train accuracy: 0.270571 val accuracy: 0.287000\n",
        "lr 1.000000e-05 reg 1.000000e+04 train accuracy: 0.238000 val accuracy: 0.225000\n",
        "lr 1.000000e-05 reg 1.291550e+04 train accuracy: 0.187571 val accuracy: 0.176000\n",
        "lr 1.000000e-05 reg 1.668101e+04 train accuracy: 0.141143 val accuracy: 0.144000\n",
        "lr 1.000000e-05 reg 2.154435e+04 train accuracy: 0.204878 val accuracy: 0.198000\n",
        "lr 1.000000e-05 reg 2.782559e+04 train accuracy: 0.140898 val accuracy: 0.161000\n",
        "lr 1.000000e-05 reg 3.593814e+04 train accuracy: 0.184327 val accuracy: 0.193000\n",
        "lr 1.000000e-05 reg 4.641589e+04 train accuracy: 0.106612 val accuracy: 0.095000\n",
        "lr 1.000000e-05 reg 5.994843e+04 train accuracy: 0.148837 val accuracy: 0.156000\n",
        "lr 1.000000e-05 reg 7.742637e+04 train accuracy: 0.086571 val accuracy: 0.111000\n",
        "lr 1.000000e-05 reg 1.000000e+05 train accuracy: 0.139673 val accuracy: 0.125000\n",
        "best validation accuracy achieved during cross-validation: 0.380000\n"
       ]
      }
     ],
     "prompt_number": 25
    },
    {
     "cell_type": "code",
     "collapsed": false,
     "input": [
      "# evaluate on test set\n",
      "# Evaluate the best svm on test set\n",
      "y_test_pred = best_softmax.predict(X_test)\n",
      "test_accuracy = np.mean(y_test == y_test_pred)\n",
      "print 'softmax on raw pixels final test set accuracy: %f' % (test_accuracy, )"
     ],
     "language": "python",
     "metadata": {},
     "outputs": []
    },
    {
     "cell_type": "code",
     "collapsed": false,
     "input": [
      "# Visualize the learned weights for each class\n",
      "w = best_softmax.W[:,:-1] # strip out the bias\n",
      "w = w.reshape(10, 32, 32, 3)\n",
      "\n",
      "w_min, w_max = np.min(w), np.max(w)\n",
      "\n",
      "classes = ['plane', 'car', 'bird', 'cat', 'deer', 'dog', 'frog', 'horse', 'ship', 'truck']\n",
      "for i in xrange(10):\n",
      "  plt.subplot(2, 5, i + 1)\n",
      "  \n",
      "  # Rescale the weights to be between 0 and 255\n",
      "  wimg = 255.0 * (w[i].squeeze() - w_min) / (w_max - w_min)\n",
      "  plt.imshow(wimg.astype('uint8'))\n",
      "  plt.axis('off')\n",
      "  plt.title(classes[i])"
     ],
     "language": "python",
     "metadata": {},
     "outputs": []
    }
   ],
   "metadata": {}
  }
 ]
}